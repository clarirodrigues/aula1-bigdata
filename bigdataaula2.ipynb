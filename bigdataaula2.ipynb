{
 "cells": [
  {
   "cell_type": "code",
   "execution_count": null,
   "id": "5d40d878c120ec9e",
   "metadata": {
    "collapsed": false
   },
   "outputs": [],
   "source": [
    "valor1 = input('Digite um numero inteiro: ')\n",
    "valor2 = input('Digite outro numero inteiro: ')\n"
   ]
  },
  {
   "cell_type": "code",
   "execution_count": null,
   "id": "4b61f90dd173a3a0",
   "metadata": {
    "collapsed": false
   },
   "outputs": [],
   "source": [
    "print('o valor um é: ', valor1, 'o valor dois é: ', valor2)\n",
    "print(valor1,'é igual a ', valor2,'?',valor1==valor2)\n",
    "print(valor1>valor2)\n",
    "print(valor1<valor2)\n",
    "print(valor1>=valor2)\n",
    "print(valor1<=valor2)"
   ]
  },
  {
   "cell_type": "markdown",
   "id": "7ebf11de9ec43a92",
   "metadata": {
    "collapsed": false
   },
   "source": [
    "listas"
   ]
  },
  {
   "cell_type": "code",
   "execution_count": 12,
   "id": "a92e8efa4a5fcbfe",
   "metadata": {
    "ExecuteTime": {
     "end_time": "2024-03-04T12:02:38.899560Z",
     "start_time": "2024-03-04T12:02:38.890867Z"
    },
    "collapsed": false
   },
   "outputs": [
    {
     "data": {
      "text/plain": [
       "10"
      ]
     },
     "execution_count": 12,
     "metadata": {},
     "output_type": "execute_result"
    }
   ],
   "source": [
    "l = []\n",
    "l = list()#construtor de listas\n",
    "dias = [3,1,10]\n",
    "dias[0]\n",
    "\n"
   ]
  },
  {
   "cell_type": "code",
   "execution_count": 13,
   "id": "14dae888d7bd778e",
   "metadata": {
    "ExecuteTime": {
     "end_time": "2024-03-04T12:03:06.425197Z",
     "start_time": "2024-03-04T12:03:06.415939Z"
    },
    "collapsed": false
   },
   "outputs": [
    {
     "data": {
      "text/plain": [
       "1"
      ]
     },
     "execution_count": 13,
     "metadata": {},
     "output_type": "execute_result"
    }
   ],
   "source": [
    "dias[1]"
   ]
  },
  {
   "cell_type": "code",
   "execution_count": 14,
   "id": "2a23560e387a1f82",
   "metadata": {
    "ExecuteTime": {
     "end_time": "2024-03-04T12:03:11.199187Z",
     "start_time": "2024-03-04T12:03:11.193590Z"
    },
    "collapsed": false
   },
   "outputs": [
    {
     "data": {
      "text/plain": [
       "10"
      ]
     },
     "execution_count": 14,
     "metadata": {},
     "output_type": "execute_result"
    }
   ],
   "source": [
    "dias[2]"
   ]
  },
  {
   "cell_type": "code",
   "execution_count": 15,
   "id": "e7b520acbbeadf7c",
   "metadata": {
    "ExecuteTime": {
     "end_time": "2024-03-04T12:04:03.222Z",
     "start_time": "2024-03-04T12:04:03.216216Z"
    },
    "collapsed": false
   },
   "outputs": [],
   "source": [
    "z = [3,8,9]\n"
   ]
  },
  {
   "cell_type": "code",
   "execution_count": 16,
   "id": "a6b2b75202abb9b4",
   "metadata": {
    "ExecuteTime": {
     "end_time": "2024-03-04T12:04:07.985996Z",
     "start_time": "2024-03-04T12:04:07.979731Z"
    },
    "collapsed": false
   },
   "outputs": [],
   "source": [
    "z[0] = 7"
   ]
  },
  {
   "cell_type": "code",
   "execution_count": 17,
   "id": "507c4edf4732951",
   "metadata": {
    "ExecuteTime": {
     "end_time": "2024-03-04T12:04:12.597589Z",
     "start_time": "2024-03-04T12:04:12.592269Z"
    },
    "collapsed": false
   },
   "outputs": [
    {
     "data": {
      "text/plain": [
       "[7, 8, 9]"
      ]
     },
     "execution_count": 17,
     "metadata": {},
     "output_type": "execute_result"
    }
   ],
   "source": [
    "z # nao precisa colocar tanto print pq o sistema já reconhece"
   ]
  },
  {
   "cell_type": "code",
   "execution_count": 18,
   "id": "67bc6df9fb8f5fc2",
   "metadata": {
    "ExecuteTime": {
     "end_time": "2024-03-04T12:13:22.036923Z",
     "start_time": "2024-03-04T12:13:22.030621Z"
    },
    "collapsed": false
   },
   "outputs": [],
   "source": [
    "a = [81,82,83]"
   ]
  },
  {
   "cell_type": "code",
   "execution_count": 19,
   "id": "48f90d412ea32522",
   "metadata": {
    "ExecuteTime": {
     "end_time": "2024-03-04T12:13:24.359013Z",
     "start_time": "2024-03-04T12:13:24.354020Z"
    },
    "collapsed": false
   },
   "outputs": [],
   "source": [
    "b = a[:]\n"
   ]
  },
  {
   "cell_type": "code",
   "execution_count": 20,
   "id": "5ed421d146467ae3",
   "metadata": {
    "ExecuteTime": {
     "end_time": "2024-03-04T12:13:27.143990Z",
     "start_time": "2024-03-04T12:13:27.139425Z"
    },
    "collapsed": false
   },
   "outputs": [
    {
     "name": "stdout",
     "output_type": "stream",
     "text": [
      "True\n"
     ]
    }
   ],
   "source": [
    "print(a==b)"
   ]
  },
  {
   "cell_type": "code",
   "execution_count": 21,
   "id": "c6f676f15e4505b7",
   "metadata": {
    "ExecuteTime": {
     "end_time": "2024-03-04T12:13:30.438258Z",
     "start_time": "2024-03-04T12:13:30.434461Z"
    },
    "collapsed": false
   },
   "outputs": [
    {
     "name": "stdout",
     "output_type": "stream",
     "text": [
      "False\n"
     ]
    }
   ],
   "source": [
    "print(a is b)"
   ]
  },
  {
   "cell_type": "code",
   "execution_count": 22,
   "id": "b0d032ca11f60cc6",
   "metadata": {
    "ExecuteTime": {
     "end_time": "2024-03-04T12:13:33.735257Z",
     "start_time": "2024-03-04T12:13:33.730120Z"
    },
    "collapsed": false
   },
   "outputs": [],
   "source": [
    "b[0] = 5"
   ]
  },
  {
   "cell_type": "code",
   "execution_count": 23,
   "id": "f439740f5ad8bfb1",
   "metadata": {
    "ExecuteTime": {
     "end_time": "2024-03-04T12:13:36.676083Z",
     "start_time": "2024-03-04T12:13:36.670128Z"
    },
    "collapsed": false
   },
   "outputs": [
    {
     "name": "stdout",
     "output_type": "stream",
     "text": [
      "[81, 82, 83]\n"
     ]
    }
   ],
   "source": [
    "print(a)"
   ]
  },
  {
   "cell_type": "code",
   "execution_count": 24,
   "id": "7ee312549bf4ab0d",
   "metadata": {
    "ExecuteTime": {
     "end_time": "2024-03-04T12:13:41.229245Z",
     "start_time": "2024-03-04T12:13:41.225920Z"
    },
    "collapsed": false
   },
   "outputs": [
    {
     "name": "stdout",
     "output_type": "stream",
     "text": [
      "[5, 82, 83]\n"
     ]
    }
   ],
   "source": [
    "print(b)"
   ]
  },
  {
   "cell_type": "code",
   "execution_count": 25,
   "id": "e3e2d79ed178be1d",
   "metadata": {
    "ExecuteTime": {
     "end_time": "2024-03-04T12:17:05.522226Z",
     "start_time": "2024-03-04T12:17:05.516210Z"
    },
    "collapsed": false
   },
   "outputs": [],
   "source": [
    "uma_lista = ['a','b','c','d','e','f']"
   ]
  },
  {
   "cell_type": "code",
   "execution_count": 26,
   "id": "106a21bec3f064b",
   "metadata": {
    "ExecuteTime": {
     "end_time": "2024-03-04T12:17:08.827537Z",
     "start_time": "2024-03-04T12:17:08.822685Z"
    },
    "collapsed": false
   },
   "outputs": [
    {
     "name": "stdout",
     "output_type": "stream",
     "text": [
      "['b', 'c']\n"
     ]
    }
   ],
   "source": [
    "print(uma_lista[1:3])"
   ]
  },
  {
   "cell_type": "code",
   "execution_count": 27,
   "id": "801d105f78e37579",
   "metadata": {
    "ExecuteTime": {
     "end_time": "2024-03-04T12:17:13.383459Z",
     "start_time": "2024-03-04T12:17:13.379585Z"
    },
    "collapsed": false
   },
   "outputs": [
    {
     "name": "stdout",
     "output_type": "stream",
     "text": [
      "['a', 'b', 'c', 'd']\n"
     ]
    }
   ],
   "source": [
    "print(uma_lista[:4])"
   ]
  },
  {
   "cell_type": "code",
   "execution_count": 28,
   "id": "b6e31cf1747ef44c",
   "metadata": {
    "ExecuteTime": {
     "end_time": "2024-03-04T12:17:19.652032Z",
     "start_time": "2024-03-04T12:17:19.645627Z"
    },
    "collapsed": false
   },
   "outputs": [
    {
     "name": "stdout",
     "output_type": "stream",
     "text": [
      "['d', 'e', 'f']\n"
     ]
    }
   ],
   "source": [
    "print(uma_lista[3:])"
   ]
  },
  {
   "cell_type": "code",
   "execution_count": 29,
   "id": "a97740674bb8c1e0",
   "metadata": {
    "ExecuteTime": {
     "end_time": "2024-03-04T12:17:22.954517Z",
     "start_time": "2024-03-04T12:17:22.951003Z"
    },
    "collapsed": false
   },
   "outputs": [
    {
     "name": "stdout",
     "output_type": "stream",
     "text": [
      "['a', 'b', 'c', 'd', 'e', 'f']\n"
     ]
    }
   ],
   "source": [
    "print(uma_lista[:])"
   ]
  },
  {
   "cell_type": "code",
   "execution_count": 30,
   "id": "cb82c451ef824ed5",
   "metadata": {
    "ExecuteTime": {
     "end_time": "2024-03-04T12:24:35.322232Z",
     "start_time": "2024-03-04T12:24:35.318413Z"
    },
    "collapsed": false
   },
   "outputs": [],
   "source": [
    "a = [1,2,3]"
   ]
  },
  {
   "cell_type": "code",
   "execution_count": 37,
   "id": "8849a0bc97103cc1",
   "metadata": {
    "ExecuteTime": {
     "end_time": "2024-03-04T12:31:35.172421Z",
     "start_time": "2024-03-04T12:31:35.168176Z"
    },
    "collapsed": false
   },
   "outputs": [],
   "source": [
    "b = a[:]"
   ]
  },
  {
   "cell_type": "code",
   "execution_count": 35,
   "id": "70d960b258d54be2",
   "metadata": {
    "ExecuteTime": {
     "end_time": "2024-03-04T12:31:19.950902Z",
     "start_time": "2024-03-04T12:31:19.945982Z"
    },
    "collapsed": false
   },
   "outputs": [],
   "source": [
    "b[0]=5"
   ]
  },
  {
   "cell_type": "code",
   "execution_count": 36,
   "id": "10b8c701734b2ea0",
   "metadata": {
    "ExecuteTime": {
     "end_time": "2024-03-04T12:31:28.834368Z",
     "start_time": "2024-03-04T12:31:28.830366Z"
    },
    "collapsed": false
   },
   "outputs": [
    {
     "name": "stdout",
     "output_type": "stream",
     "text": [
      "3\n"
     ]
    }
   ],
   "source": [
    "print(a[2])"
   ]
  },
  {
   "cell_type": "code",
   "execution_count": 74,
   "id": "fb7cd19cf4478244",
   "metadata": {
    "ExecuteTime": {
     "end_time": "2024-03-04T12:49:52.929955Z",
     "start_time": "2024-03-04T12:49:52.926449Z"
    },
    "collapsed": false
   },
   "outputs": [],
   "source": [
    "minhaLista = [76,92.3,'oi',True,4,76]"
   ]
  },
  {
   "cell_type": "code",
   "execution_count": 75,
   "id": "130f3d80b672f83e",
   "metadata": {
    "ExecuteTime": {
     "end_time": "2024-03-04T12:49:56.975545Z",
     "start_time": "2024-03-04T12:49:56.971491Z"
    },
    "collapsed": false
   },
   "outputs": [
    {
     "name": "stdout",
     "output_type": "stream",
     "text": [
      "[76, 92.3, 'oi', True, 4, 76, 'pitomba']\n"
     ]
    }
   ],
   "source": [
    "minhaLista = minhaLista + ['pitomba']\n",
    "print(minhaLista)"
   ]
  },
  {
   "cell_type": "code",
   "execution_count": 76,
   "id": "8f2e4f5555a417a1",
   "metadata": {
    "ExecuteTime": {
     "end_time": "2024-03-04T12:50:12.086410Z",
     "start_time": "2024-03-04T12:50:12.075882Z"
    },
    "collapsed": false
   },
   "outputs": [
    {
     "data": {
      "text/plain": [
       "[76, 92.3, 'Cibele', True, 4, 76, 'pitomba']"
      ]
     },
     "execution_count": 76,
     "metadata": {},
     "output_type": "execute_result"
    }
   ],
   "source": [
    "minhaLista[2] = 'Cibele'\n",
    "minhaLista"
   ]
  },
  {
   "cell_type": "code",
   "execution_count": 77,
   "id": "39696120901043c5",
   "metadata": {
    "ExecuteTime": {
     "end_time": "2024-03-04T12:50:18.117438Z",
     "start_time": "2024-03-04T12:50:18.108040Z"
    },
    "collapsed": false
   },
   "outputs": [
    {
     "data": {
      "text/plain": [
       "[99, 92.3, 'Cibele', True, 4, 76, 'pitomba']"
      ]
     },
     "execution_count": 77,
     "metadata": {},
     "output_type": "execute_result"
    }
   ],
   "source": [
    "minhaLista[0] = 99\n",
    "minhaLista"
   ]
  },
  {
   "cell_type": "code",
   "execution_count": 78,
   "id": "31f2f35fd5a32998",
   "metadata": {
    "ExecuteTime": {
     "end_time": "2024-03-04T12:50:24.502419Z",
     "start_time": "2024-03-04T12:50:24.497175Z"
    },
    "collapsed": false
   },
   "outputs": [
    {
     "data": {
      "text/plain": [
       "[99, 92.3, 'Cibele', True, 4, 76, 'pitomba']"
      ]
     },
     "execution_count": 78,
     "metadata": {},
     "output_type": "execute_result"
    }
   ],
   "source": [
    "minhaLista[:]\n",
    "    "
   ]
  },
  {
   "cell_type": "code",
   "execution_count": 68,
   "id": "157d2276e4c941b5",
   "metadata": {
    "ExecuteTime": {
     "end_time": "2024-03-04T12:48:26.104980Z",
     "start_time": "2024-03-04T12:48:26.101715Z"
    },
    "collapsed": false
   },
   "outputs": [],
   "source": [
    "uma_lista = [4,2,8,6,5]"
   ]
  },
  {
   "cell_type": "code",
   "execution_count": 69,
   "id": "d74f73b34e3c8cf0",
   "metadata": {
    "ExecuteTime": {
     "end_time": "2024-03-04T12:48:28.778024Z",
     "start_time": "2024-03-04T12:48:28.774768Z"
    },
    "collapsed": false
   },
   "outputs": [],
   "source": [
    "uma_lista = uma_lista + ['Cibele']"
   ]
  },
  {
   "cell_type": "code",
   "execution_count": 70,
   "id": "80a7b210812d7a13",
   "metadata": {
    "ExecuteTime": {
     "end_time": "2024-03-04T12:48:32.402246Z",
     "start_time": "2024-03-04T12:48:32.399058Z"
    },
    "collapsed": false
   },
   "outputs": [
    {
     "name": "stdout",
     "output_type": "stream",
     "text": [
      "[4, 2, 8, 6, 5, 'Cibele']\n"
     ]
    }
   ],
   "source": [
    "print(uma_lista)"
   ]
  },
  {
   "cell_type": "markdown",
   "id": "8413a6c17ff0d5d5",
   "metadata": {
    "collapsed": false
   },
   "source": [
    "Tuplas"
   ]
  },
  {
   "cell_type": "code",
   "execution_count": 79,
   "id": "54a50575b2276b3e",
   "metadata": {
    "ExecuteTime": {
     "end_time": "2024-03-04T12:53:23.365226Z",
     "start_time": "2024-03-04T12:53:23.359865Z"
    },
    "collapsed": false
   },
   "outputs": [],
   "source": [
    "tupla_numeros = (10,20,30)"
   ]
  },
  {
   "cell_type": "code",
   "execution_count": 80,
   "id": "e38041fc149e7bd4",
   "metadata": {
    "ExecuteTime": {
     "end_time": "2024-03-04T12:53:26.355564Z",
     "start_time": "2024-03-04T12:53:26.351432Z"
    },
    "collapsed": false
   },
   "outputs": [
    {
     "data": {
      "text/plain": [
       "(10, 20, 30)"
      ]
     },
     "execution_count": 80,
     "metadata": {},
     "output_type": "execute_result"
    }
   ],
   "source": [
    "tupla_numeros"
   ]
  },
  {
   "cell_type": "code",
   "execution_count": 81,
   "id": "96c63c7a8dffd404",
   "metadata": {
    "ExecuteTime": {
     "end_time": "2024-03-04T12:54:44.458658Z",
     "start_time": "2024-03-04T12:54:44.454165Z"
    },
    "collapsed": false
   },
   "outputs": [],
   "source": [
    "tupla_nova = 30,40,50"
   ]
  },
  {
   "cell_type": "code",
   "execution_count": 82,
   "id": "95179077e93ffdc1",
   "metadata": {
    "ExecuteTime": {
     "end_time": "2024-03-04T12:54:47.335592Z",
     "start_time": "2024-03-04T12:54:47.331431Z"
    },
    "collapsed": false
   },
   "outputs": [
    {
     "data": {
      "text/plain": [
       "(30, 40, 50)"
      ]
     },
     "execution_count": 82,
     "metadata": {},
     "output_type": "execute_result"
    }
   ],
   "source": [
    "tupla_nova"
   ]
  },
  {
   "cell_type": "code",
   "execution_count": 83,
   "id": "f1b4b14d9307e696",
   "metadata": {
    "ExecuteTime": {
     "end_time": "2024-03-04T12:56:06.271587Z",
     "start_time": "2024-03-04T12:56:06.267841Z"
    },
    "collapsed": false
   },
   "outputs": [],
   "source": [
    "tupla_elemento = 10,"
   ]
  },
  {
   "cell_type": "code",
   "execution_count": null,
   "id": "37bb4ad552cbdbdb",
   "metadata": {
    "collapsed": false
   },
   "outputs": [],
   "source": []
  },
  {
   "cell_type": "code",
   "execution_count": 84,
   "id": "19ae5d5ed43d6617",
   "metadata": {
    "ExecuteTime": {
     "end_time": "2024-03-04T12:56:12.201563Z",
     "start_time": "2024-03-04T12:56:12.197680Z"
    },
    "collapsed": false
   },
   "outputs": [
    {
     "data": {
      "text/plain": [
       "(10,)"
      ]
     },
     "execution_count": 84,
     "metadata": {},
     "output_type": "execute_result"
    }
   ],
   "source": [
    "tupla_elemento"
   ]
  },
  {
   "cell_type": "code",
   "execution_count": 85,
   "id": "68782c25d0888ab7",
   "metadata": {
    "ExecuteTime": {
     "end_time": "2024-03-04T13:00:59.759527Z",
     "start_time": "2024-03-04T13:00:59.754950Z"
    },
    "collapsed": false
   },
   "outputs": [
    {
     "name": "stdout",
     "output_type": "stream",
     "text": [
      "<class 'dict'>\n"
     ]
    }
   ],
   "source": [
    "dicio = {'chave': 'valor'}\n",
    "print(type(dicio))"
   ]
  },
  {
   "cell_type": "code",
   "execution_count": 86,
   "id": "17ac6f3cb80532c7",
   "metadata": {
    "ExecuteTime": {
     "end_time": "2024-03-04T13:02:47.147223Z",
     "start_time": "2024-03-04T13:02:47.142895Z"
    },
    "collapsed": false
   },
   "outputs": [
    {
     "data": {
      "text/plain": [
       "35"
      ]
     },
     "execution_count": 86,
     "metadata": {},
     "output_type": "execute_result"
    }
   ],
   "source": [
    "d = {'laranjas': 15, 'bananas': 35, 'siriguelas': 12}\n",
    "d['bananas']"
   ]
  },
  {
   "cell_type": "code",
   "execution_count": 88,
   "id": "7dfb4bfb2657204",
   "metadata": {
    "ExecuteTime": {
     "end_time": "2024-03-04T13:06:40.233651Z",
     "start_time": "2024-03-04T13:06:40.228383Z"
    },
    "collapsed": false
   },
   "outputs": [],
   "source": [
    "d['pitomba'] = 20\n"
   ]
  },
  {
   "cell_type": "code",
   "execution_count": 90,
   "id": "94c2f232660db195",
   "metadata": {
    "ExecuteTime": {
     "end_time": "2024-03-04T13:06:51.526177Z",
     "start_time": "2024-03-04T13:06:51.520637Z"
    },
    "collapsed": false
   },
   "outputs": [
    {
     "data": {
      "text/plain": [
       "4"
      ]
     },
     "execution_count": 90,
     "metadata": {},
     "output_type": "execute_result"
    }
   ],
   "source": [
    "len(d)"
   ]
  },
  {
   "cell_type": "code",
   "execution_count": 91,
   "id": "787e20fde87bc917",
   "metadata": {
    "ExecuteTime": {
     "end_time": "2024-03-04T13:08:19.386543Z",
     "start_time": "2024-03-04T13:08:19.382734Z"
    },
    "collapsed": false
   },
   "outputs": [
    {
     "data": {
      "text/plain": [
       "True"
      ]
     },
     "execution_count": 91,
     "metadata": {},
     "output_type": "execute_result"
    }
   ],
   "source": [
    "'pitomba' in d"
   ]
  },
  {
   "cell_type": "code",
   "execution_count": 92,
   "id": "255cf585c5c12164",
   "metadata": {
    "ExecuteTime": {
     "end_time": "2024-03-04T13:12:07.460540Z",
     "start_time": "2024-03-04T13:12:07.456862Z"
    },
    "collapsed": false
   },
   "outputs": [],
   "source": [
    "del d['laranjas']"
   ]
  },
  {
   "cell_type": "code",
   "execution_count": 93,
   "id": "1c9a7b94cee12499",
   "metadata": {
    "ExecuteTime": {
     "end_time": "2024-03-04T13:12:10.864362Z",
     "start_time": "2024-03-04T13:12:10.860362Z"
    },
    "collapsed": false
   },
   "outputs": [
    {
     "data": {
      "text/plain": [
       "False"
      ]
     },
     "execution_count": 93,
     "metadata": {},
     "output_type": "execute_result"
    }
   ],
   "source": [
    "'laranjas' in d"
   ]
  },
  {
   "cell_type": "code",
   "execution_count": 94,
   "id": "d5a7a6497e308286",
   "metadata": {
    "ExecuteTime": {
     "end_time": "2024-03-04T13:15:16.169181Z",
     "start_time": "2024-03-04T13:15:16.164853Z"
    },
    "collapsed": false
   },
   "outputs": [],
   "source": [
    "frutas = ['pinha','oiti coro', 'jaca','tamarindo']"
   ]
  },
  {
   "cell_type": "code",
   "execution_count": 95,
   "id": "1446662a678e5bc8",
   "metadata": {
    "ExecuteTime": {
     "end_time": "2024-03-04T13:15:18.496812Z",
     "start_time": "2024-03-04T13:15:18.493773Z"
    },
    "collapsed": false
   },
   "outputs": [
    {
     "name": "stdout",
     "output_type": "stream",
     "text": [
      "[1, 2, 3, 4]\n"
     ]
    }
   ],
   "source": [
    "print([1,2] + [3,4])"
   ]
  },
  {
   "cell_type": "code",
   "execution_count": 96,
   "id": "dad032bc934b35bf",
   "metadata": {
    "ExecuteTime": {
     "end_time": "2024-03-04T13:15:21.504387Z",
     "start_time": "2024-03-04T13:15:21.500239Z"
    },
    "collapsed": false
   },
   "outputs": [
    {
     "name": "stdout",
     "output_type": "stream",
     "text": [
      "['pinha', 'oiti coro', 'jaca', 'tamarindo', 6, 7, 8, 9]\n"
     ]
    }
   ],
   "source": [
    "print(frutas + [6,7,8,9])"
   ]
  },
  {
   "cell_type": "code",
   "execution_count": 97,
   "id": "ae252ea4cd0b16aa",
   "metadata": {
    "ExecuteTime": {
     "end_time": "2024-03-04T13:15:24.881895Z",
     "start_time": "2024-03-04T13:15:24.878568Z"
    },
    "collapsed": false
   },
   "outputs": [
    {
     "name": "stdout",
     "output_type": "stream",
     "text": [
      "[0, 0, 0, 0]\n"
     ]
    }
   ],
   "source": [
    "print([0] * 4)"
   ]
  },
  {
   "cell_type": "code",
   "execution_count": 98,
   "id": "9abf0d66920e1492",
   "metadata": {
    "ExecuteTime": {
     "end_time": "2024-03-04T13:15:27.754803Z",
     "start_time": "2024-03-04T13:15:27.750556Z"
    },
    "collapsed": false
   },
   "outputs": [
    {
     "name": "stdout",
     "output_type": "stream",
     "text": [
      "[1, 2, ['oi', 'tchau'], 1, 2, ['oi', 'tchau']]\n"
     ]
    }
   ],
   "source": [
    "print([1,2,['oi','tchau']]*2)"
   ]
  },
  {
   "cell_type": "code",
   "execution_count": null,
   "id": "1bb72aedfad4b7ac",
   "metadata": {
    "collapsed": false
   },
   "outputs": [],
   "source": []
  }
 ],
 "metadata": {
  "kernelspec": {
   "display_name": "Python 3",
   "language": "python",
   "name": "python3"
  },
  "language_info": {
   "codemirror_mode": {
    "name": "ipython",
    "version": 2
   },
   "file_extension": ".py",
   "mimetype": "text/x-python",
   "name": "python",
   "nbconvert_exporter": "python",
   "pygments_lexer": "ipython2",
   "version": "2.7.6"
  }
 },
 "nbformat": 4,
 "nbformat_minor": 5
}
